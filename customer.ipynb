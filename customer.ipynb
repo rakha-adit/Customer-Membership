{
 "cells": [
  {
   "cell_type": "code",
   "execution_count": 20,
   "metadata": {},
   "outputs": [],
   "source": [
    "from tabulate import tabulate\n",
    "import math"
   ]
  },
  {
   "cell_type": "code",
   "execution_count": 93,
   "metadata": {},
   "outputs": [],
   "source": [
    "class CustomerMembership:\n",
    "    data_membership = {\n",
    "        'Sumbul': 'Platinum', \n",
    "        'Ana': 'Gold', \n",
    "        'Cahya': 'Platinum'\n",
    "        }\n",
    "\n",
    "\n",
    "    def __init__(self, username, membership = None):\n",
    "        self.username = username\n",
    "        # self.monthly_expense = monthly_expense\n",
    "        # self.monthly_income = monthly_income\n",
    "        self.membership = membership\n",
    "\n",
    "    def show_benefit(self):\n",
    "        benefit = [\n",
    "                    [\"Platinum\", \"15%\", \"Benefit Gold + Silver + Cashback max. 30%\"],\n",
    "                    [\"Gold\", \"10%\", \"Benefit Silver + Voucher Ojek Online\"],\n",
    "                    [\"Silver\", \"8%\", \"Voucher Makanan\"],\n",
    "                ]\n",
    "\n",
    "        benefit_headers = [\"Membership\", \"Discount\", \"Another Benefit\"]\n",
    "\n",
    "        print('Paccommerce Membership Benefit')\n",
    "        print(tabulate(benefit,benefit_headers,tablefmt ='fancy_grid',stralign = 'center'))\n",
    "\n",
    "    def show_requirements(self):\n",
    "        self.requirements = [\n",
    "            ['Platinum', 8, 15],\n",
    "            ['Gold', 6, 10],\n",
    "            ['Silver', 5, 7]\n",
    "        ]\n",
    "\n",
    "        requirements_headers = ['Membership', 'Monthly Expense (juta)', 'Monthly Income (juta)']\n",
    "\n",
    "        print('Requirements Membership PacCommerce')\n",
    "        print(tabulate(self.requirements, requirements_headers, tablefmt='github'))\n",
    "\n",
    "    def predict_membership(self, monthly_expense, monthly_income):\n",
    "        for data in self.requirements:\n",
    "            if 'Platinum' in data:\n",
    "                expense_platinum = data[1]\n",
    "                income_platinum = data[2]\n",
    "\n",
    "                r_user_platinum = (((monthly_expense - expense_platinum) ** 2) + ((monthly_income - income_platinum) ** 2)) ** 0.5\n",
    "                print(r_user_platinum)\n",
    "            \n",
    "            if 'Gold' in data:\n",
    "                expense_gold = data[1]\n",
    "                income_gold = data[2]\n",
    "\n",
    "                r_user_gold = (((monthly_expense - expense_gold) ** 2) + ((monthly_income - income_gold) ** 2)) ** 0.5\n",
    "                print(r_user_gold)\n",
    "\n",
    "            if 'Silver' in data:\n",
    "                expense_silver = data[1]\n",
    "                income_silver = data[2]\n",
    "\n",
    "                r_user_silver = (((monthly_expense - expense_silver) ** 2) + ((monthly_income - income_silver) ** 2)) ** 0.5\n",
    "                print(r_user_silver)\n",
    "\n",
    "        if r_user_platinum > r_user_gold:\n",
    "            if r_user_gold > r_user_silver:\n",
    "                print(f'Predict membership: in Silver')\n",
    "            else:\n",
    "                print(f'Predict membership: in Gold')\n",
    "        elif r_user_platinum < r_user_gold:\n",
    "            if r_user_platinum < r_user_silver:\n",
    "                print(f'Predict membership: in Platinum')\n",
    "            else:\n",
    "                print(f'Predict membership: in Silver')\n",
    "\n",
    "    def calculate_price(membership, list_harga_barang):\n",
    "        pass\n"
   ]
  },
  {
   "cell_type": "code",
   "execution_count": 94,
   "metadata": {},
   "outputs": [],
   "source": [
    "user1 = CustomerMembership(\"Ucok\")"
   ]
  },
  {
   "cell_type": "code",
   "execution_count": 95,
   "metadata": {},
   "outputs": [
    {
     "name": "stdout",
     "output_type": "stream",
     "text": [
      "Requirements Membership PacCommerce\n",
      "| Membership   |   Monthly Expense (juta) |   Monthly Income (juta) |\n",
      "|--------------|--------------------------|-------------------------|\n",
      "| Platinum     |                        8 |                      15 |\n",
      "| Gold         |                        6 |                      10 |\n",
      "| Silver       |                        5 |                       7 |\n"
     ]
    }
   ],
   "source": [
    "user1.show_requirements()"
   ]
  },
  {
   "cell_type": "code",
   "execution_count": 97,
   "metadata": {},
   "outputs": [
    {
     "name": "stdout",
     "output_type": "stream",
     "text": [
      "3.1622776601683795\n",
      "3.605551275463989\n",
      "6.4031242374328485\n",
      "Predict membership: in Platinum\n"
     ]
    }
   ],
   "source": [
    "user1.predict_membership(9, 12)"
   ]
  },
  {
   "cell_type": "code",
   "execution_count": 37,
   "metadata": {},
   "outputs": [
    {
     "name": "stdout",
     "output_type": "stream",
     "text": [
      "Username: Ucok\n"
     ]
    }
   ],
   "source": [
    "print(f'Username: {user1.username}')\n",
    "# print(f'Monthly Expense: {user1.monthly_expense}')\n",
    "# print(f'Monthly Income: {user1.monthly_income}')"
   ]
  },
  {
   "cell_type": "code",
   "execution_count": 38,
   "metadata": {},
   "outputs": [
    {
     "data": {
      "text/plain": [
       "{'Sumbul': 'Platinum', 'Ana': 'Gold', 'Cahya': 'Platinum'}"
      ]
     },
     "execution_count": 38,
     "metadata": {},
     "output_type": "execute_result"
    }
   ],
   "source": [
    "user1.data_membership"
   ]
  },
  {
   "cell_type": "code",
   "execution_count": 39,
   "metadata": {},
   "outputs": [
    {
     "name": "stdout",
     "output_type": "stream",
     "text": [
      "Paccommerce Membership Benefit\n",
      "╒══════════════╤════════════╤═══════════════════════════════════════════╕\n",
      "│  Membership  │  Discount  │              Another Benefit              │\n",
      "╞══════════════╪════════════╪═══════════════════════════════════════════╡\n",
      "│   Platinum   │    15%     │ Benefit Gold + Silver + Cashback max. 30% │\n",
      "├──────────────┼────────────┼───────────────────────────────────────────┤\n",
      "│     Gold     │    10%     │   Benefit Silver + Voucher Ojek Online    │\n",
      "├──────────────┼────────────┼───────────────────────────────────────────┤\n",
      "│    Silver    │     8%     │              Voucher Makanan              │\n",
      "╘══════════════╧════════════╧═══════════════════════════════════════════╛\n"
     ]
    }
   ],
   "source": [
    "user1.show_benefit()"
   ]
  },
  {
   "cell_type": "code",
   "execution_count": 40,
   "metadata": {},
   "outputs": [
    {
     "name": "stdout",
     "output_type": "stream",
     "text": [
      "Requirements Membership PacCommerce\n",
      "| Membership   |   Monthly Expense (juta) |   Monthly Income (juta) |\n",
      "|--------------|--------------------------|-------------------------|\n",
      "| Platinum     |                        8 |                      15 |\n",
      "| Gold         |                        6 |                      10 |\n",
      "| Silver       |                        5 |                       7 |\n"
     ]
    }
   ],
   "source": [
    "user1.show_requirements()"
   ]
  },
  {
   "cell_type": "code",
   "execution_count": 41,
   "metadata": {},
   "outputs": [],
   "source": [
    "user1.predict_membership(3_000_000, 10_000_000)"
   ]
  }
 ],
 "metadata": {
  "kernelspec": {
   "display_name": "Python 3",
   "language": "python",
   "name": "python3"
  },
  "language_info": {
   "codemirror_mode": {
    "name": "ipython",
    "version": 3
   },
   "file_extension": ".py",
   "mimetype": "text/x-python",
   "name": "python",
   "nbconvert_exporter": "python",
   "pygments_lexer": "ipython3",
   "version": "3.12.7"
  }
 },
 "nbformat": 4,
 "nbformat_minor": 2
}
