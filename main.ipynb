{
 "cells": [
  {
   "cell_type": "code",
   "execution_count": 1,
   "metadata": {},
   "outputs": [],
   "source": [
    "from customer import CustomerMembership"
   ]
  },
  {
   "cell_type": "code",
   "execution_count": 2,
   "metadata": {},
   "outputs": [],
   "source": [
    "user1 = CustomerMembership(\"Ucok\")"
   ]
  },
  {
   "cell_type": "code",
   "execution_count": 3,
   "metadata": {},
   "outputs": [
    {
     "name": "stdout",
     "output_type": "stream",
     "text": [
      "Username: Ucok\n"
     ]
    }
   ],
   "source": [
    "print(f'Username: {user1.username}')\n",
    "# print(f'Monthly Expense: {user1.monthly_expense}')\n",
    "# print(f'Monthly Income: {user1.monthly_income}')"
   ]
  },
  {
   "cell_type": "code",
   "execution_count": 4,
   "metadata": {},
   "outputs": [
    {
     "data": {
      "text/plain": [
       "{'Sumbul': 'Platinum', 'Ana': 'Gold', 'Cahya': 'Platinum'}"
      ]
     },
     "execution_count": 4,
     "metadata": {},
     "output_type": "execute_result"
    }
   ],
   "source": [
    "user1.data_membership"
   ]
  },
  {
   "cell_type": "code",
   "execution_count": 5,
   "metadata": {},
   "outputs": [
    {
     "name": "stdout",
     "output_type": "stream",
     "text": [
      "Paccommerce Membership Benefit\n",
      "|  Membership  |  Discount  |              Another Benefit              |\n",
      "|--------------|------------|-------------------------------------------|\n",
      "|   Platinum   |    15%     | Benefit Gold + Silver + Cashback max. 30% |\n",
      "|     Gold     |    10%     |   Benefit Silver + Voucher Ojek Online    |\n",
      "|    Silver    |     8%     |              Voucher Makanan              |\n"
     ]
    }
   ],
   "source": [
    "user1.show_benefit()"
   ]
  },
  {
   "cell_type": "code",
   "execution_count": 6,
   "metadata": {},
   "outputs": [
    {
     "name": "stdout",
     "output_type": "stream",
     "text": [
      "Requirements Membership PacCommerce\n",
      "|  Membership  |   Monthly Expense (juta) |   Monthly Income (juta) |\n",
      "|--------------|--------------------------|-------------------------|\n",
      "|   Platinum   |                        8 |                      15 |\n",
      "|     Gold     |                        6 |                      10 |\n",
      "|    Silver    |                        5 |                       7 |\n"
     ]
    }
   ],
   "source": [
    "user1.show_requirements()"
   ]
  },
  {
   "cell_type": "code",
   "execution_count": 7,
   "metadata": {},
   "outputs": [
    {
     "name": "stdout",
     "output_type": "stream",
     "text": [
      "3.1622776601683795\n",
      "3.605551275463989\n",
      "6.4031242374328485\n"
     ]
    },
    {
     "data": {
      "text/plain": [
       "'Predict membership: Platinum'"
      ]
     },
     "execution_count": 7,
     "metadata": {},
     "output_type": "execute_result"
    }
   ],
   "source": [
    "user1.predict_membership(9, 12)"
   ]
  },
  {
   "cell_type": "code",
   "execution_count": 8,
   "metadata": {},
   "outputs": [
    {
     "data": {
      "text/plain": [
       "{'Sumbul': 'Platinum', 'Ana': 'Gold', 'Cahya': 'Platinum', 'Ucok': 'Platinum'}"
      ]
     },
     "execution_count": 8,
     "metadata": {},
     "output_type": "execute_result"
    }
   ],
   "source": [
    "user1.data_membership"
   ]
  },
  {
   "cell_type": "code",
   "execution_count": 9,
   "metadata": {},
   "outputs": [
    {
     "data": {
      "text/plain": [
       "637500.0"
      ]
     },
     "execution_count": 9,
     "metadata": {},
     "output_type": "execute_result"
    }
   ],
   "source": [
    "user1.calculate_price(user1.username, [150_000, 200_000, 400_000])"
   ]
  }
 ],
 "metadata": {
  "kernelspec": {
   "display_name": ".venv",
   "language": "python",
   "name": "python3"
  },
  "language_info": {
   "codemirror_mode": {
    "name": "ipython",
    "version": 3
   },
   "file_extension": ".py",
   "mimetype": "text/x-python",
   "name": "python",
   "nbconvert_exporter": "python",
   "pygments_lexer": "ipython3",
   "version": "3.12.7"
  }
 },
 "nbformat": 4,
 "nbformat_minor": 2
}
